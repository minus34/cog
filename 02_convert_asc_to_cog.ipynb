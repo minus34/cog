{
 "cells": [
  {
   "cell_type": "markdown",
   "metadata": {},
   "source": [
    "# Convert ASCII Grid File to Cloud Optimised GeoTIFF\n",
    "\n",
    "Downloads a zipped ASCII grid elevation file and exports it as a COG.\n",
    "\n",
    "### Load packages"
   ]
  },
  {
   "cell_type": "code",
   "execution_count": null,
   "metadata": {},
   "outputs": [],
   "source": [
    "import os\n",
    "import pathlib\n",
    "import rasterio.plot\n",
    "\n",
    "from matplotlib import pyplot\n",
    "from rasterio.io import MemoryFile\n",
    "from rio_cogeo import cog_translate\n",
    "from rio_cogeo.profiles import cog_profiles\n",
    "from urllib.parse import urlparse"
   ]
  },
  {
   "cell_type": "markdown",
   "metadata": {},
   "source": [
    "### Settings"
   ]
  },
  {
   "cell_type": "code",
   "execution_count": null,
   "metadata": {},
   "outputs": [],
   "source": [
    "# the URL of the ZIP file\n",
    "url = \"https://portal.spatial.nsw.gov.au/download/dem/56/Sydney-DEM-AHD_56_5m.zip\"\n",
    "\n",
    "# the path to save the COG image\n",
    "output_path = \"./data\""
   ]
  },
  {
   "cell_type": "markdown",
   "metadata": {},
   "source": [
    "### Create Virtual File System URL\n",
    "\n",
    "Rasterio can read the input image directly from a ZIP file using the Virtual File System (VFS) protocol. Here, we can use a VFS URL to download & open the file with a single line of code\n",
    "\n",
    "VFS over HTTP sample URL: `zip+https://example.com/files.zip!/folder/file.tif`\n",
    "\n",
    "*Note: if testing with a different ZIP file - you'll need to know what the data file's name is to use a VFS URL.*"
   ]
  },
  {
   "cell_type": "code",
   "execution_count": null,
   "metadata": {},
   "outputs": [],
   "source": [
    "# get the name of the input file & it's extension\n",
    "parsed_url = urlparse(url)\n",
    "file_name, file_extension = os.path.splitext(os.path.basename(parsed_url.path))\n",
    "\n",
    "if file_extension == \".zip\":\n",
    "    # format vfs url - in this case, the input .asc file shares the same name as the ZIP file \n",
    "    url = f\"zip+{url}!{file_name}.asc\""
   ]
  },
  {
   "cell_type": "markdown",
   "metadata": {},
   "source": [
    "### Set output file path"
   ]
  },
  {
   "cell_type": "code",
   "execution_count": null,
   "metadata": {},
   "outputs": [],
   "source": [
    "# create required output directory\n",
    "pathlib.Path(output_path).mkdir(parents=True, exist_ok=True)\n",
    "\n",
    "# COG files have a .tif extension\n",
    "output_file_path = os.path.join(output_path, f\"{file_name}.tif\")"
   ]
  },
  {
   "cell_type": "markdown",
   "metadata": {},
   "source": [
    "### Download file & convert to COG\n",
    "\n",
    "Takes ~45 seconds on a 2018 MacBook with a 100mb/s Internet connection. Status will be displayed automatically below.\n",
    "\n",
    "Input ASCII grid file: 790Mb; output COG file size: 240mb"
   ]
  },
  {
   "cell_type": "code",
   "execution_count": null,
   "metadata": {
    "scrolled": false
   },
   "outputs": [],
   "source": [
    "%%time\n",
    "# create a COG profile to set compression on the output file\n",
    "dst_profile = cog_profiles.get(\"deflate\")\n",
    "\n",
    "# download and open the input file\n",
    "with rasterio.open(url) as input_image:\n",
    "    # Create the COG in-memory & save it locally - in-memory is useful if you want to save it remotely (e.g. AWS S3)\n",
    "    with MemoryFile() as output_image:\n",
    "        cog_translate(input_image, output_image.name, dst_profile, in_memory=True, nodata=-9999)\n",
    "\n",
    "        # save the COG to disk\n",
    "        with open(output_file_path, \"wb\") as f:\n",
    "            f.write(output_image.read())"
   ]
  },
  {
   "cell_type": "markdown",
   "metadata": {},
   "source": [
    "### Open & display the COG file\n",
    "\n",
    "Takes ~10 seconds"
   ]
  },
  {
   "cell_type": "code",
   "execution_count": null,
   "metadata": {},
   "outputs": [],
   "source": [
    "%%time\n",
    "with rasterio.open(output_file_path) as dataset:\n",
    "    fig = pyplot.figure(figsize=(9, 12), dpi=80)\n",
    "    rasterio.plot.show(dataset, cmap=\"terrain\")"
   ]
  },
  {
   "cell_type": "code",
   "execution_count": null,
   "metadata": {},
   "outputs": [],
   "source": []
  }
 ],
 "metadata": {
  "kernelspec": {
   "display_name": "Python 3 (ipykernel)",
   "language": "python",
   "name": "python3"
  },
  "language_info": {
   "codemirror_mode": {
    "name": "ipython",
    "version": 3
   },
   "file_extension": ".py",
   "mimetype": "text/x-python",
   "name": "python",
   "nbconvert_exporter": "python",
   "pygments_lexer": "ipython3",
   "version": "3.9.7"
  },
  "widgets": {
   "state": {},
   "version": "1.1.2"
  }
 },
 "nbformat": 4,
 "nbformat_minor": 1
}
