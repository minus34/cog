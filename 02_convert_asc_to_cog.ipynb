{
 "cells": [
  {
   "cell_type": "raw",
   "metadata": {},
   "source": [
    "# Convert ASCII Grid File to Cloud Optimised GeoTIFF\n",
    "\n",
    "This notebook downloads an ASCII grid elevation file and exports it as a COG.\n"
   ]
  },
  {
   "cell_type": "code",
   "execution_count": 1,
   "metadata": {},
   "outputs": [
    {
     "ename": "ModuleNotFoundError",
     "evalue": "No module named 'colorcet'",
     "output_type": "error",
     "traceback": [
      "\u001b[0;31m---------------------------------------------------------------------------\u001b[0m",
      "\u001b[0;31mModuleNotFoundError\u001b[0m                       Traceback (most recent call last)",
      "\u001b[0;32m/var/folders/dq/g7_ytjmn32ngbd92x1df588c0000gn/T/ipykernel_12351/3488041595.py\u001b[0m in \u001b[0;36m<module>\u001b[0;34m\u001b[0m\n\u001b[0;32m----> 1\u001b[0;31m \u001b[0;32mimport\u001b[0m \u001b[0mcolorcet\u001b[0m\u001b[0;34m\u001b[0m\u001b[0;34m\u001b[0m\u001b[0m\n\u001b[0m\u001b[1;32m      2\u001b[0m \u001b[0;32mimport\u001b[0m \u001b[0mdask\u001b[0m\u001b[0;34m.\u001b[0m\u001b[0mdataframe\u001b[0m\u001b[0;34m\u001b[0m\u001b[0;34m\u001b[0m\u001b[0m\n\u001b[1;32m      3\u001b[0m \u001b[0;32mimport\u001b[0m \u001b[0mdatashader\u001b[0m\u001b[0;34m\u001b[0m\u001b[0;34m\u001b[0m\u001b[0m\n\u001b[1;32m      4\u001b[0m \u001b[0;32mimport\u001b[0m \u001b[0mdatashader\u001b[0m\u001b[0;34m.\u001b[0m\u001b[0mtransfer_functions\u001b[0m \u001b[0;32mas\u001b[0m \u001b[0mtf\u001b[0m\u001b[0;34m\u001b[0m\u001b[0;34m\u001b[0m\u001b[0m\n\u001b[1;32m      5\u001b[0m \u001b[0;32mimport\u001b[0m \u001b[0mholoviews\u001b[0m\u001b[0;34m\u001b[0m\u001b[0;34m\u001b[0m\u001b[0m\n",
      "\u001b[0;31mModuleNotFoundError\u001b[0m: No module named 'colorcet'"
     ]
    }
   ],
   "source": [
    "# import boto3\n",
    "import io\n",
    "import os\n",
    "import pathlib\n",
    "import rasterio.crs\n",
    "import requests\n",
    "import zipfile\n",
    "\n",
    "from rasterio.io import MemoryFile\n",
    "from rio_cogeo import cog_translate\n",
    "from rio_cogeo.profiles import cog_profiles\n"
   ]
  },
  {
   "cell_type": "code",
   "execution_count": null,
   "metadata": {},
   "outputs": [],
   "source": [
    "%%time\n",
    "# load CSV of GNAF points\n",
    "df = dask.dataframe.read_csv(\"/Users/hugh.saalmans/tmp/address_principals_point.csv\")\n",
    "df = df.persist()"
   ]
  },
  {
   "cell_type": "code",
   "execution_count": null,
   "metadata": {},
   "outputs": [],
   "source": [
    "print(\"point count: {}\".format(len(df)))\n",
    "df.head()"
   ]
  },
  {
   "cell_type": "code",
   "execution_count": null,
   "metadata": {},
   "outputs": [],
   "source": [
    "# set AU map bounds (in lat/long)\n",
    "\n",
    "x_min = 110.0\n",
    "x_max = 158.0\n",
    "y_min = -44.5\n",
    "y_max = y_min + (map_height / map_width) * (x_max - x_min)\n",
    "\n",
    "print(y_max)\n",
    "\n",
    "bounds = dict(x_range = (x_min, x_max), y_range = (y_min, y_max))\n",
    "\n",
    "# plot the points\n",
    "cvs = datashader.Canvas(plot_width=map_width, plot_height=map_height, **bounds)\n",
    "agg = cvs.points(df, 'x', 'y', datashader.count())\n",
    "\n",
    "tf.set_background(tf.shade(agg.where(agg > 0), cmap=colorcet.fire), \"black\")"
   ]
  },
  {
   "cell_type": "code",
   "execution_count": null,
   "metadata": {
    "scrolled": false
   },
   "outputs": [],
   "source": [
    "# set Sydney map bounds (in lat/long)\n",
    "\n",
    "x_min = 150.45\n",
    "x_max = 151.45\n",
    "y_min = -34.15\n",
    "y_max = y_min + (map_height / map_width) * (x_max - x_min)\n",
    "\n",
    "bounds = dict(x_range = (x_min, x_max), y_range = (y_min, y_max))\n",
    "\n",
    "# plot the points\n",
    "cvs = datashader.Canvas(plot_width=map_width, plot_height=map_height, **bounds)\n",
    "agg = cvs.points(df, 'x', 'y', datashader.count())\n",
    "\n",
    "tf.set_background(tf.shade(agg.where(agg > 0), cmap=colorcet.fire), \"black\")"
   ]
  },
  {
   "cell_type": "code",
   "execution_count": null,
   "metadata": {},
   "outputs": [],
   "source": [
    "# set Inner Sydney map bounds (in lat/long)\n",
    "\n",
    "x_min = 150.8\n",
    "x_max = 151.3\n",
    "y_min = -34.0\n",
    "y_max = y_min + (map_height / map_width) * (x_max - x_min)\n",
    "\n",
    "bounds = dict(x_range = (x_min, x_max), y_range = (y_min, y_max))\n",
    "\n",
    "# plot the points\n",
    "cvs = datashader.Canvas(plot_width=map_width, plot_height=map_height, **bounds)\n",
    "agg = cvs.points(df, 'x', 'y', datashader.count())\n",
    "\n",
    "tf.set_background(tf.shade(agg.where(agg > 0), cmap=colorcet.blues), \"white\")"
   ]
  },
  {
   "cell_type": "code",
   "execution_count": null,
   "metadata": {},
   "outputs": [],
   "source": [
    "sizes  = dict(width=plot_width, height=int(plot_width*0.5))\n",
    "opts   = dict(xaxis=None, yaxis=None, bgcolor=\"black\", **sizes)\n",
    "points = hv.Points(df, ['x', 'y'])\n",
    "dynspread(datashade(points, cmap=[\"red\", \"yellow\"], **sizes)).options(**opts)"
   ]
  },
  {
   "cell_type": "code",
   "execution_count": null,
   "metadata": {},
   "outputs": [],
   "source": []
  }
 ],
 "metadata": {
  "kernelspec": {
   "display_name": "Python 3 (ipykernel)",
   "language": "python",
   "name": "python3"
  },
  "language_info": {
   "codemirror_mode": {
    "name": "ipython",
    "version": 3
   },
   "file_extension": ".py",
   "mimetype": "text/x-python",
   "name": "python",
   "nbconvert_exporter": "python",
   "pygments_lexer": "ipython3",
   "version": "3.9.7"
  },
  "widgets": {
   "state": {},
   "version": "1.1.2"
  }
 },
 "nbformat": 4,
 "nbformat_minor": 1
}
