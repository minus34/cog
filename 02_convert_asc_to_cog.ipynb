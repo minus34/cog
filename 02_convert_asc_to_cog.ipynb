{
 "cells": [
  {
   "cell_type": "markdown",
   "metadata": {},
   "source": [
    "# Convert ASCII Grid File to Cloud Optimised GeoTIFF\n",
    "\n",
    "Downloads a zipped ASCII grid elevation file and exports it as a COG.\n",
    "\n",
    "The zip file contains:\n",
    "1. The raster data (.asc file)\n",
    "2. The data's projection (.prj file)\n",
    "3. A metadata html file (which we'll ignore)\n"
   ]
  },
  {
   "cell_type": "markdown",
   "metadata": {},
   "source": [
    "### Load packages"
   ]
  },
  {
   "cell_type": "code",
   "execution_count": 2,
   "metadata": {},
   "outputs": [],
   "source": [
    "# import boto3\n",
    "import io\n",
    "import os\n",
    "import pathlib\n",
    "import rasterio.crs\n",
    "import requests\n",
    "import zipfile\n",
    "\n",
    "from rasterio.io import MemoryFile\n",
    "from rio_cogeo import cog_translate\n",
    "from rio_cogeo.profiles import cog_profiles\n"
   ]
  },
  {
   "cell_type": "markdown",
   "metadata": {},
   "source": [
    "### Settings"
   ]
  },
  {
   "cell_type": "code",
   "execution_count": 3,
   "metadata": {},
   "outputs": [],
   "source": [
    "# the directory of this script\n",
    "script_dir = os.path.dirname(os.path.realpath(__file__))\n",
    "\n",
    "# the URL of the elevation data to download\n",
    "url = \"https://portal.spatial.nsw.gov.au/download/dem/56/Sydney-DEM-AHD_56_5m.zip\"\n",
    "\n",
    "# the local path or AWS S3 path to save the images to\n",
    "output_path = os.path.join(script_dir, \"data\")"
   ]
  },
  {
   "cell_type": "markdown",
   "metadata": {},
   "source": [
    "### Download file\n",
    "\n",
    "Download a ZIP file and extract its contents in-memory.\n",
    "\n",
    "Yields a list of (filename, file-like object) pairs"
   ]
  },
  {
   "cell_type": "code",
   "execution_count": 4,
   "metadata": {},
   "outputs": [
    {
     "name": "stdout",
     "output_type": "stream",
     "text": [
      "Eastern-DEM-AHD_56_5m_Metadata.html\n",
      "CPU times: user 3.26 s, sys: 597 ms, total: 3.86 s\n",
      "Wall time: 7.89 s\n"
     ]
    }
   ],
   "source": [
    "%%time\n",
    "\n",
    "file_list = list()\n",
    "\n",
    "# download zipfile\n",
    "response = requests.get(url)\n",
    "\n",
    "# extract each file from zipfile\n",
    "with zipfile.ZipFile(io.BytesIO(response.content)) as thezip:\n",
    "    for zipinfo in thezip.infolist():\n",
    "        with thezip.open(zipinfo) as thefile:\n",
    "            file_list.append((zipinfo.filename, thefile.read()))            "
   ]
  },
  {
   "cell_type": "code",
   "execution_count": null,
   "metadata": {},
   "outputs": [],
   "source": [
    "### Load raster file & get it's coordinate system\n",
    "\n",
    "Also, save raster file to disk for testing (not required for conversion to COG)"
   ]
  },
  {
   "cell_type": "code",
   "execution_count": null,
   "metadata": {},
   "outputs": [],
   "source": [
    "image = None\n",
    "crs = None\n",
    "output_file_name = None\n",
    "    \n",
    "for file in file_list:\n",
    "    file_name = file[0]\n",
    "    file_obj = file[1]\n",
    "\n",
    "    # get raster as an in-memory file\n",
    "    if file_name.endswith(\".asc\"):\n",
    "        image = MemoryFile(file_obj)\n",
    "        output_file_name = file_name.replace(\".asc\", \".tif\")\n",
    "\n",
    "    # get well known text coordinate system\n",
    "    if file_name.endswith(\".prj\"):\n",
    "        proj_string = file_obj.decode(\"utf-8\")\n",
    "        crs = rasterio.crs.CRS.from_wkt(proj_string)\n",
    "\n",
    "    if debug:\n",
    "    with open(os.path.join(output_path, file_name), \"wb\") as f:\n",
    "        f.write(file_obj)\n"
   ]
  },
  {
   "cell_type": "code",
   "execution_count": null,
   "metadata": {
    "scrolled": false
   },
   "outputs": [],
   "source": [
    "# set Sydney map bounds (in lat/long)\n",
    "\n",
    "x_min = 150.45\n",
    "x_max = 151.45\n",
    "y_min = -34.15\n",
    "y_max = y_min + (map_height / map_width) * (x_max - x_min)\n",
    "\n",
    "bounds = dict(x_range = (x_min, x_max), y_range = (y_min, y_max))\n",
    "\n",
    "# plot the points\n",
    "cvs = datashader.Canvas(plot_width=map_width, plot_height=map_height, **bounds)\n",
    "agg = cvs.points(df, 'x', 'y', datashader.count())\n",
    "\n",
    "tf.set_background(tf.shade(agg.where(agg > 0), cmap=colorcet.fire), \"black\")"
   ]
  },
  {
   "cell_type": "code",
   "execution_count": null,
   "metadata": {},
   "outputs": [],
   "source": [
    "# set Inner Sydney map bounds (in lat/long)\n",
    "\n",
    "x_min = 150.8\n",
    "x_max = 151.3\n",
    "y_min = -34.0\n",
    "y_max = y_min + (map_height / map_width) * (x_max - x_min)\n",
    "\n",
    "bounds = dict(x_range = (x_min, x_max), y_range = (y_min, y_max))\n",
    "\n",
    "# plot the points\n",
    "cvs = datashader.Canvas(plot_width=map_width, plot_height=map_height, **bounds)\n",
    "agg = cvs.points(df, 'x', 'y', datashader.count())\n",
    "\n",
    "tf.set_background(tf.shade(agg.where(agg > 0), cmap=colorcet.blues), \"white\")"
   ]
  },
  {
   "cell_type": "code",
   "execution_count": null,
   "metadata": {},
   "outputs": [],
   "source": [
    "sizes  = dict(width=plot_width, height=int(plot_width*0.5))\n",
    "opts   = dict(xaxis=None, yaxis=None, bgcolor=\"black\", **sizes)\n",
    "points = hv.Points(df, ['x', 'y'])\n",
    "dynspread(datashade(points, cmap=[\"red\", \"yellow\"], **sizes)).options(**opts)"
   ]
  },
  {
   "cell_type": "code",
   "execution_count": null,
   "metadata": {},
   "outputs": [],
   "source": []
  }
 ],
 "metadata": {
  "kernelspec": {
   "display_name": "Python 3 (ipykernel)",
   "language": "python",
   "name": "python3"
  },
  "language_info": {
   "codemirror_mode": {
    "name": "ipython",
    "version": 3
   },
   "file_extension": ".py",
   "mimetype": "text/x-python",
   "name": "python",
   "nbconvert_exporter": "python",
   "pygments_lexer": "ipython3",
   "version": "3.9.7"
  },
  "widgets": {
   "state": {},
   "version": "1.1.2"
  }
 },
 "nbformat": 4,
 "nbformat_minor": 1
}
