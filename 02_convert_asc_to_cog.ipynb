{
 "cells": [
  {
   "cell_type": "markdown",
   "metadata": {},
   "source": [
    "# Convert ASCII Grid File to Cloud Optimised GeoTIFF\n",
    "\n",
    "Downloads a zipped ASCII grid elevation file and exports it as a COG.\n",
    "\n",
    "The zip file contains:\n",
    "1. The raster data (.asc file)\n",
    "2. The data's projection (.prj file)\n",
    "3. A metadata html file (which we'll ignore)\n",
    "\n",
    "### Load packages"
   ]
  },
  {
   "cell_type": "code",
   "execution_count": null,
   "metadata": {},
   "outputs": [],
   "source": [
    "# import boto3\n",
    "import io\n",
    "import os\n",
    "import pathlib\n",
    "import rasterio.crs\n",
    "import rasterio.plot\n",
    "import requests\n",
    "import zipfile\n",
    "\n",
    "from matplotlib import pyplot\n",
    "from rasterio.io import MemoryFile\n",
    "from rio_cogeo import cog_translate\n",
    "from rio_cogeo.profiles import cog_profiles\n"
   ]
  },
  {
   "cell_type": "markdown",
   "metadata": {},
   "source": [
    "### Settings"
   ]
  },
  {
   "cell_type": "code",
   "execution_count": null,
   "metadata": {},
   "outputs": [],
   "source": [
    "# the URL of the elevation data to download\n",
    "url = \"https://portal.spatial.nsw.gov.au/download/dem/56/Sydney-DEM-AHD_56_5m.zip\"\n",
    "\n",
    "# the path to save the images to\n",
    "output_path = \"./data\"\n",
    "\n",
    "download_path = os.path.join(output_path, \"downloaded\")\n",
    "converted_path = os.path.join(output_path, \"converted\")\n",
    "\n",
    "# create required data directories (if required)\n",
    "pathlib.Path(download_path).mkdir(parents=True, exist_ok=True)\n",
    "pathlib.Path(converted_path).mkdir(exist_ok=True)"
   ]
  },
  {
   "cell_type": "markdown",
   "metadata": {},
   "source": [
    "### Download file\n",
    "\n",
    "...and extract its contents into a list of in-memory files"
   ]
  },
  {
   "cell_type": "code",
   "execution_count": null,
   "metadata": {},
   "outputs": [],
   "source": [
    "%%time\n",
    "# download zipfile\n",
    "response = requests.get(url)         "
   ]
  },
  {
   "cell_type": "code",
   "execution_count": null,
   "metadata": {},
   "outputs": [],
   "source": [
    "%%time\n",
    "# extract each file from zipfile & add to list of (filename, file-like object) pairs\n",
    "file_list = list()\n",
    "with zipfile.ZipFile(io.BytesIO(response.content)) as thezip:\n",
    "    for zipinfo in thezip.infolist():\n",
    "        with thezip.open(zipinfo) as thefile:\n",
    "            file_list.append((zipinfo.filename, thefile.read()))   "
   ]
  },
  {
   "cell_type": "markdown",
   "metadata": {},
   "source": [
    "### Load raster file & get it's coordinate system\n",
    "\n",
    "Also, save files to disk for testing (not required for conversion to COG)\n",
    "\n",
    "File size: 790mb"
   ]
  },
  {
   "cell_type": "code",
   "execution_count": null,
   "metadata": {},
   "outputs": [],
   "source": [
    "%%time\n",
    "image = None\n",
    "crs = None\n",
    "input_file_name = None\n",
    "output_file_name = None\n",
    "\n",
    "for file in file_list:\n",
    "    file_name = file[0]\n",
    "    file_obj = file[1]\n",
    "\n",
    "    # get image as an in-memory file.\n",
    "    if file_name.endswith(\".asc\"):\n",
    "        image = MemoryFile(file_obj)\n",
    "        input_file_name = file_name\n",
    "        output_file_name = file_name.replace(\".asc\", \".tif\")\n",
    "\n",
    "    # get well known text coordinate system\n",
    "    if file_name.endswith(\".prj\"):\n",
    "        proj_string = file_obj.decode(\"utf-8\")\n",
    "        crs = rasterio.crs.CRS.from_wkt(proj_string)\n",
    "\n",
    "    # save file to disk\n",
    "    with open(os.path.join(download_path, file_name), \"wb\") as f:\n",
    "        f.write(file_obj)"
   ]
  },
  {
   "cell_type": "markdown",
   "metadata": {},
   "source": [
    "### Convert to COG\n",
    "\n",
    "Take the raster file & it's coordinate system and convert to a cloud optimised geotiff (COG)\n",
    "\n",
    "This takes ~13 seconds on a 2017 Mac\n",
    "\n",
    "COG file size: 240mb"
   ]
  },
  {
   "cell_type": "code",
   "execution_count": null,
   "metadata": {
    "scrolled": false
   },
   "outputs": [],
   "source": [
    "%%time\n",
    "with image.open() as dataset:\n",
    "    # create COG profile and set the image compression type & coordinate system\n",
    "    dst_profile = cog_profiles.get(\"deflate\")\n",
    "    dst_profile.update({\"crs\": str(crs)})\n",
    "\n",
    "    # convert the raster dataset\n",
    "    with MemoryFile() as output_image:\n",
    "        cog_translate(dataset, output_image.name, dst_profile, in_memory=True, nodata=-9999)\n",
    "\n",
    "        # save the COG to disk\n",
    "        with open(os.path.join(converted_path, output_file_name), \"wb\") as f:\n",
    "            f.write(output_image.read())"
   ]
  },
  {
   "cell_type": "markdown",
   "metadata": {},
   "source": [
    "### Open & display the COG file\n",
    "\n",
    "To confirm a successful conversion"
   ]
  },
  {
   "cell_type": "code",
   "execution_count": null,
   "metadata": {},
   "outputs": [],
   "source": [
    "%%time\n",
    "with rasterio.open(os.path.join(converted_path, output_file_name)) as dataset:\n",
    "    fig = pyplot.figure(figsize=(9, 12), dpi=80)\n",
    "    rasterio.plot.show(dataset, cmap=\"terrain\")"
   ]
  },
  {
   "cell_type": "code",
   "execution_count": null,
   "metadata": {},
   "outputs": [],
   "source": []
  }
 ],
 "metadata": {
  "kernelspec": {
   "display_name": "Python 3 (ipykernel)",
   "language": "python",
   "name": "python3"
  },
  "language_info": {
   "codemirror_mode": {
    "name": "ipython",
    "version": 3
   },
   "file_extension": ".py",
   "mimetype": "text/x-python",
   "name": "python",
   "nbconvert_exporter": "python",
   "pygments_lexer": "ipython3",
   "version": "3.9.7"
  },
  "widgets": {
   "state": {},
   "version": "1.1.2"
  }
 },
 "nbformat": 4,
 "nbformat_minor": 1
}
